{
 "cells": [
  {
   "cell_type": "code",
   "execution_count": 50,
   "id": "05db5eb3",
   "metadata": {},
   "outputs": [],
   "source": [
    "import torch\n",
    "import torch.nn as nn\n",
    "import torch.optim as optim\n",
    "import torchvision\n",
    "from torchvision import datasets, models, transforms\n",
    "from torch.utils.data import Dataset\n",
    "from PIL import Image\n",
    "import numpy as np\n",
    "import matplotlib.pyplot as plt\n",
    "import os\n",
    "import pandas as pd\n",
    "from tqdm import tqdm\n",
    "from efficientnet_pytorch import EfficientNet\n",
    "device = torch.device(\"cuda:4\" if torch.cuda.is_available() else \"cpu\")\n",
    "torch.cuda.empty_cache()"
   ]
  },
  {
   "cell_type": "code",
   "execution_count": 51,
   "id": "1e5dbc23",
   "metadata": {},
   "outputs": [],
   "source": [
    "SIZE = (224, 224)\n",
    "\n",
    "transforms_test = transforms.Compose([\n",
    "    transforms.Resize(SIZE),\n",
    "    transforms.ToTensor(),\n",
    "    transforms.Normalize([0.485, 0.456, 0.406], [0.229, 0.224, 0.225])\n",
    "])"
   ]
  },
  {
   "cell_type": "code",
   "execution_count": 52,
   "id": "e4308144",
   "metadata": {},
   "outputs": [],
   "source": [
    "true_preds = {}\n",
    "for filename in os.listdir(\"test_src/fire\"):\n",
    "    true_preds[filename] = 1\n",
    "for filename in os.listdir(\"test_src/not_fire\"):\n",
    "    true_preds[filename] = 0"
   ]
  },
  {
   "cell_type": "code",
   "execution_count": 65,
   "id": "7e944636",
   "metadata": {},
   "outputs": [],
   "source": [
    "class TestDataset(Dataset):\n",
    "    \n",
    "    def __init__(self, images, path, transform):\n",
    "        self.images = images\n",
    "        self.transform = transform\n",
    "    \n",
    "    def __len__(self):\n",
    "        return len(self.images)\n",
    "    \n",
    "    def __getitem__(self, idx):\n",
    "        image_path = self.images[idx]\n",
    "        image = Image.open(path + image_path)\n",
    "        image = self.transform(image)\n",
    "        return image, image_path\n",
    "\n",
    "path = 'test_imgs/'\n",
    "test_imgs = os.listdir(path) \n",
    "test_data = TestDataset(test_imgs, path, transforms_test)\n",
    "\n",
    "test_loader = torch.utils.data.DataLoader(\n",
    "    test_data,\n",
    "    batch_size=1,\n",
    "    shuffle=False,\n",
    "    drop_last=False,\n",
    ")"
   ]
  },
  {
   "cell_type": "code",
   "execution_count": 66,
   "id": "f7a4aa26",
   "metadata": {},
   "outputs": [],
   "source": [
    "def init_model(model_name):\n",
    "    \n",
    "    path = 'saved_models/' + model_name\n",
    "    checkpoint = torch.load(path)\n",
    "    if model_name.startswith('resnet152'):\n",
    "        model = models.resnet152()\n",
    "    if model_name.startswith('resnet101'):\n",
    "        model = models.resnet101()\n",
    "    if model_name.startswith('resnet50'):\n",
    "        model = models.resnet50()\n",
    "    if model_name.startswith('resnext50'):\n",
    "        model = models.resnext50_32x4d()\n",
    "    if model_name.startswith('resnext101'):\n",
    "        model = models.resnext101_32x8d()\n",
    "    if model_name.startswith('wide_resnet50'):\n",
    "        model = models.wide_resnet50_2()\n",
    "    if model_name.startswith('wide_resnet101'):\n",
    "        model = models.models.wide_resnet101_2()\n",
    "    \n",
    "    num_features = model.fc.in_features\n",
    "    model.fc = nn.Linear(num_features, 2)\n",
    "    model.load_state_dict(checkpoint['model_state_dict'])\n",
    "    model = model.to(device)\n",
    "    \n",
    "    return model"
   ]
  },
  {
   "cell_type": "code",
   "execution_count": 67,
   "id": "c2974e62",
   "metadata": {},
   "outputs": [],
   "source": [
    "def inference(model):\n",
    "    \n",
    "    predictions = {}\n",
    "    model.eval()\n",
    "    curr_correct = 0\n",
    "    for data in test_loader:\n",
    "        inputs, image_path = data\n",
    "        inputs = inputs.to(device)\n",
    "        output = model(inputs)\n",
    "        _, preds = torch.max(output, 1)\n",
    "        predictions[image_path[0]] = 0 if preds.cpu().detach().numpy() else 1\n",
    "        \n",
    "    return predictions"
   ]
  },
  {
   "cell_type": "code",
   "execution_count": 69,
   "id": "a07a8415",
   "metadata": {},
   "outputs": [],
   "source": [
    "def save_submission(predictions, sub_name):\n",
    "    df = pd.DataFrame(predictions.values(), index=predictions)\n",
    "    df.to_csv('submissions/' + sub_name)\n",
    "    return df"
   ]
  },
  {
   "cell_type": "code",
   "execution_count": 70,
   "id": "1fce3eb7",
   "metadata": {},
   "outputs": [
    {
     "data": {
      "text/plain": [
       "['resnet101-224-97.25.pth',\n",
       " 'resnext50_32-224-96.75.pth',\n",
       " 'resnet50-224-97.5.pth',\n",
       " 'resnext101_32-224-96.25.pth',\n",
       " 'wide_resnet50-224-96.25.pth',\n",
       " 'resnet101-224-96.5.pth',\n",
       " 'resnext50_32-224-96.5.pth',\n",
       " 'resnet101-224-97.0.pth',\n",
       " 'resnet152-224-96.75.pth',\n",
       " 'resnext50_32-224-96.25.pth',\n",
       " 'resnet101-224-96.75.pth',\n",
       " 'wide_resnet50-224-96.5.pth',\n",
       " 'resnext50_32-224-97.25.pth',\n",
       " 'wide_resnet101-224-96.5.pth',\n",
       " 'wide_resnet50-224-97.0.pth',\n",
       " 'resnet152-224-95.25.pth',\n",
       " 'resnet152-224-96.5.pth',\n",
       " 'resnet50-224-96.75.pth',\n",
       " 'resnet50-224-96.5.pth',\n",
       " 'model_efficient_b7_9475.pth']"
      ]
     },
     "execution_count": 70,
     "metadata": {},
     "output_type": "execute_result"
    }
   ],
   "source": [
    "os.listdir('saved_models')"
   ]
  },
  {
   "cell_type": "code",
   "execution_count": 71,
   "id": "8443d839",
   "metadata": {},
   "outputs": [
    {
     "data": {
      "text/html": [
       "<div>\n",
       "<style scoped>\n",
       "    .dataframe tbody tr th:only-of-type {\n",
       "        vertical-align: middle;\n",
       "    }\n",
       "\n",
       "    .dataframe tbody tr th {\n",
       "        vertical-align: top;\n",
       "    }\n",
       "\n",
       "    .dataframe thead th {\n",
       "        text-align: right;\n",
       "    }\n",
       "</style>\n",
       "<table border=\"1\" class=\"dataframe\">\n",
       "  <thead>\n",
       "    <tr style=\"text-align: right;\">\n",
       "      <th></th>\n",
       "      <th>0</th>\n",
       "    </tr>\n",
       "  </thead>\n",
       "  <tbody>\n",
       "    <tr>\n",
       "      <th>25.jpg</th>\n",
       "      <td>1</td>\n",
       "    </tr>\n",
       "    <tr>\n",
       "      <th>762.jpg</th>\n",
       "      <td>1</td>\n",
       "    </tr>\n",
       "    <tr>\n",
       "      <th>313.jpg</th>\n",
       "      <td>1</td>\n",
       "    </tr>\n",
       "    <tr>\n",
       "      <th>262.jpg</th>\n",
       "      <td>1</td>\n",
       "    </tr>\n",
       "    <tr>\n",
       "      <th>203.jpg</th>\n",
       "      <td>1</td>\n",
       "    </tr>\n",
       "    <tr>\n",
       "      <th>...</th>\n",
       "      <td>...</td>\n",
       "    </tr>\n",
       "    <tr>\n",
       "      <th>449.jpg</th>\n",
       "      <td>0</td>\n",
       "    </tr>\n",
       "    <tr>\n",
       "      <th>835.jpg</th>\n",
       "      <td>0</td>\n",
       "    </tr>\n",
       "    <tr>\n",
       "      <th>367.jpg</th>\n",
       "      <td>1</td>\n",
       "    </tr>\n",
       "    <tr>\n",
       "      <th>343.jpg</th>\n",
       "      <td>0</td>\n",
       "    </tr>\n",
       "    <tr>\n",
       "      <th>523.jpg</th>\n",
       "      <td>1</td>\n",
       "    </tr>\n",
       "  </tbody>\n",
       "</table>\n",
       "<p>400 rows × 1 columns</p>\n",
       "</div>"
      ],
      "text/plain": [
       "         0\n",
       "25.jpg   1\n",
       "762.jpg  1\n",
       "313.jpg  1\n",
       "262.jpg  1\n",
       "203.jpg  1\n",
       "...     ..\n",
       "449.jpg  0\n",
       "835.jpg  0\n",
       "367.jpg  1\n",
       "343.jpg  0\n",
       "523.jpg  1\n",
       "\n",
       "[400 rows x 1 columns]"
      ]
     },
     "execution_count": 71,
     "metadata": {},
     "output_type": "execute_result"
    }
   ],
   "source": [
    "model_name = 'resnet50-224-97.5.pth'\n",
    "model = init_model(model_name)\n",
    "prediction = inference(model)\n",
    "save_submission(prediction, model_name + \".csv\")"
   ]
  }
 ],
 "metadata": {
  "kernelspec": {
   "display_name": "Python 3",
   "language": "python",
   "name": "python3"
  },
  "language_info": {
   "codemirror_mode": {
    "name": "ipython",
    "version": 3
   },
   "file_extension": ".py",
   "mimetype": "text/x-python",
   "name": "python",
   "nbconvert_exporter": "python",
   "pygments_lexer": "ipython3",
   "version": "3.8.8"
  }
 },
 "nbformat": 4,
 "nbformat_minor": 5
}
