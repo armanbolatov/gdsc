{
 "cells": [
  {
   "cell_type": "code",
   "execution_count": 1,
   "id": "f3b24e16",
   "metadata": {},
   "outputs": [
    {
     "name": "stderr",
     "output_type": "stream",
     "text": [
      "/opt/conda/lib/python3.8/site-packages/requests/__init__.py:89: RequestsDependencyWarning: urllib3 (1.26.12) or chardet (3.0.4) doesn't match a supported version!\n",
      "  warnings.warn(\"urllib3 ({}) or chardet ({}) doesn't match a supported \"\n"
     ]
    },
    {
     "data": {
      "text/plain": [
       "'Tesla V100-SXM3-32GB'"
      ]
     },
     "execution_count": 1,
     "metadata": {},
     "output_type": "execute_result"
    }
   ],
   "source": [
    "import torch\n",
    "import torch.nn as nn\n",
    "import torch.optim as optim\n",
    "import torchvision\n",
    "from torchvision import datasets, models, transforms\n",
    "import numpy as np\n",
    "import matplotlib.pyplot as plt\n",
    "import time\n",
    "import os\n",
    "import warnings\n",
    "import pandas as pd\n",
    "import zipfile\n",
    "import shutil\n",
    "import splitfolders\n",
    "import wandb\n",
    "from tqdm import trange\n",
    "warnings.filterwarnings(\"ignore\")\n",
    "device = torch.device(\"cuda:3\" if torch.cuda.is_available() else \"cpu\")\n",
    "\n",
    "import gc\n",
    "torch.cuda.empty_cache()\n",
    "gc.collect()\n",
    "torch.cuda.get_device_name(0)"
   ]
  },
  {
   "cell_type": "code",
   "execution_count": 3,
   "id": "1886c04a",
   "metadata": {},
   "outputs": [
    {
     "data": {
      "text/plain": [
       "True"
      ]
     },
     "execution_count": 3,
     "metadata": {},
     "output_type": "execute_result"
    }
   ],
   "source": [
    "wandb.login()"
   ]
  },
  {
   "cell_type": "code",
   "execution_count": 4,
   "id": "8c8fadda",
   "metadata": {},
   "outputs": [],
   "source": [
    "for path_to_zip_file in ['train_imgs', 'test_imgs']:\n",
    "    with zipfile.ZipFile(path_to_zip_file + '.zip', 'r') as zip_ref:\n",
    "        zip_ref.extractall('.')"
   ]
  },
  {
   "cell_type": "code",
   "execution_count": 4,
   "id": "3c561070",
   "metadata": {},
   "outputs": [],
   "source": [
    "df = pd.read_csv('test_labels.csv', names=['filename', 'label'])\n",
    "filenames = df.filename[1:]\n",
    "labels = df.label[1:]\n",
    "filenames"
   ]
  },
  {
   "cell_type": "code",
   "execution_count": 5,
   "id": "755cd9b5",
   "metadata": {},
   "outputs": [],
   "source": [
    "for i in trange(1, len(filenames) + 1):\n",
    "    source = 'test_imgs/' + filenames[i]\n",
    "    if labels[i]:\n",
    "        destination = 'test_src/fire'\n",
    "    else:\n",
    "        destination = 'test_src/not_fire'\n",
    "    shutil.copy(source, destination)"
   ]
  },
  {
   "cell_type": "code",
   "execution_count": 6,
   "id": "48f10812",
   "metadata": {},
   "outputs": [],
   "source": [
    "splitfolders.ratio(\"src\", output=\"data\",\n",
    "    seed=1337, ratio=(.8, .2), group_prefix=None, move=False)"
   ]
  },
  {
   "cell_type": "code",
   "execution_count": 5,
   "id": "7bac1a07",
   "metadata": {},
   "outputs": [],
   "source": [
    "SIZE = (448, 448)\n",
    "\n",
    "transforms_train = transforms.Compose([\n",
    "    # data augmentation\n",
    "    transforms.Resize(SIZE),\n",
    "    transforms.RandomAffine(15),\n",
    "    transforms.RandomRotation(5),\n",
    "    transforms.GaussianBlur(1),\n",
    "    transforms.RandomAutocontrast(),\n",
    "    transforms.RandomHorizontalFlip(),\n",
    "    transforms.ToTensor(),\n",
    "    transforms.Normalize([0.485, 0.456, 0.406], [0.229, 0.224, 0.225]),\n",
    "    transforms.RandomErasing(p=0.5, scale=(0.06, 0.08), ratio=(1, 3), value=0, inplace=True),\n",
    "])\n",
    "\n",
    "transforms_test = transforms.Compose([\n",
    "    transforms.Resize(SIZE),\n",
    "    transforms.ToTensor(),\n",
    "    transforms.Normalize([0.485, 0.456, 0.406], [0.229, 0.224, 0.225])\n",
    "])"
   ]
  },
  {
   "cell_type": "code",
   "execution_count": 8,
   "id": "76c46d38",
   "metadata": {},
   "outputs": [
    {
     "name": "stdout",
     "output_type": "stream",
     "text": [
      "rmdir: failed to remove 'data/train/.ipynb_checkpoints': No such file or directory\n",
      "rmdir: failed to remove 'data/val/.ipynb_checkpoints': No such file or directory\n"
     ]
    }
   ],
   "source": [
    "!rmdir data/train/.ipynb_checkpoints\n",
    "!rmdir data/val/.ipynb_checkpoints"
   ]
  },
  {
   "cell_type": "code",
   "execution_count": 6,
   "id": "9ccb914a",
   "metadata": {},
   "outputs": [],
   "source": [
    "# train and test directories\n",
    "train_dir = \"src/\"\n",
    "test_dir = \"test_src/\""
   ]
  },
  {
   "cell_type": "code",
   "execution_count": 7,
   "id": "bad5b1c3",
   "metadata": {},
   "outputs": [],
   "source": [
    "train_dataset = datasets.ImageFolder(train_dir, transforms_train)\n",
    "test_dataset = datasets.ImageFolder(test_dir, transforms_test)\n",
    "\n",
    "# create train dataloader\n",
    "train_dataloader = torch.utils.data.DataLoader(\n",
    "    train_dataset,\n",
    "    batch_size=32,\n",
    "    shuffle=True,\n",
    "    num_workers=5,\n",
    ")\n",
    "\n",
    "# create test dataloader\n",
    "test_dataloader = torch.utils.data.DataLoader(\n",
    "    test_dataset,\n",
    "    batch_size=32,\n",
    "    shuffle=False,\n",
    "    num_workers=5,\n",
    ")"
   ]
  },
  {
   "cell_type": "code",
   "execution_count": 8,
   "id": "7fe77f66",
   "metadata": {},
   "outputs": [
    {
     "name": "stdout",
     "output_type": "stream",
     "text": [
      "Train dataset size: 2619\n",
      "Test dataset size: 400\n",
      "['fire', 'not_fire']\n",
      "Number of classes: 2\n"
     ]
    }
   ],
   "source": [
    "print('Train dataset size:', len(train_dataset))\n",
    "print('Test dataset size:', len(test_dataset))\n",
    "class_names = train_dataset.classes\n",
    "print(class_names)\n",
    "num_classes = len(class_names)\n",
    "print('Number of classes:', num_classes)"
   ]
  },
  {
   "cell_type": "code",
   "execution_count": 9,
   "id": "41d21510",
   "metadata": {},
   "outputs": [
    {
     "name": "stderr",
     "output_type": "stream",
     "text": [
      "Clipping input data to the valid range for imshow with RGB data ([0..1] for floats or [0..255] for integers).\n"
     ]
    },
    {
     "data": {
      "image/png": "[encoded data removed]",
      "text/plain": [
       "<Figure size 720x480 with 1 Axes>"
      ]
     },
     "metadata": {
      "needs_background": "light"
     },
     "output_type": "display_data"
    }
   ],
   "source": [
    "plt.rcParams['figure.figsize'] = [12, 8]\n",
    "plt.rcParams['figure.dpi'] = 60\n",
    "plt.rcParams.update({'font.size': 20})\n",
    "def imshow(input, title):\n",
    "    input = input.numpy().transpose((1, 2, 0))\n",
    "    plt.imshow(input)\n",
    "    plt.title(title)\n",
    "    plt.show()\n",
    "\n",
    "iterator = iter(train_dataloader)\n",
    "inputs, classes = next(iterator)\n",
    "out = torchvision.utils.make_grid(inputs[:6])\n",
    "imshow(out, title=[class_names[x] for x in classes[:6]])"
   ]
  },
  {
   "cell_type": "code",
   "execution_count": 10,
   "id": "b6f7f65a",
   "metadata": {},
   "outputs": [],
   "source": [
    "def train_model(name, model):\n",
    "        \n",
    "    start_time = time.time()\n",
    "    wandb.init(\n",
    "        project=\"gdsc\",\n",
    "        entity=\"steeldream\",\n",
    "        name=name,\n",
    "        config={\n",
    "            \"lr\": 3e-4,\n",
    "            \"model_name\": name,\n",
    "            \"epochs\": 8,\n",
    "        }\n",
    "    )\n",
    "    config = wandb.config\n",
    "    \n",
    "    num_features = model.fc.in_features\n",
    "    model.fc = nn.Linear(num_features, num_classes)\n",
    "    model = model.to(device) \n",
    "    criterion = nn.CrossEntropyLoss()\n",
    "    optimizer = optim.Adam(model.parameters(), lr=config.lr)\n",
    "    \n",
    "    wandb.watch(model)\n",
    "    \n",
    "    curr_max_acc = 0\n",
    "    for epoch in range(0, config.epochs):\n",
    "    \n",
    "        print(f\"Epoch {epoch} running\")\n",
    "        model.train()\n",
    "        running_loss = 0.\n",
    "        running_corrects = 0 \n",
    "        \n",
    "        for i, (inputs, labels) in enumerate(train_dataloader):\n",
    "            \n",
    "            inputs = inputs.to(device)\n",
    "            labels = labels.to(device) \n",
    "            optimizer.zero_grad()\n",
    "            outputs = model(inputs)\n",
    "            _, preds = torch.max(outputs, 1)\n",
    "            loss = criterion(outputs, labels)\n",
    "            loss.backward()\n",
    "            optimizer.step()\n",
    "            running_loss += loss.item() * inputs.size(0)\n",
    "            running_corrects += torch.sum(preds == labels.data) \n",
    "            \n",
    "        epoch_loss = running_loss / len(train_dataset)\n",
    "        epoch_acc = running_corrects / len(train_dataset) * 100.\n",
    "        print('[Train #{}] Loss: {:.4f} Acc: {:.4f}% Time: {:.4f}s' \\\n",
    "              .format(epoch, epoch_loss, epoch_acc, time.time() - start_time))\n",
    "\n",
    "        model.eval()\n",
    "        with torch.no_grad():\n",
    "            running_loss = 0.\n",
    "            running_corrects = 0\n",
    "            for inputs, labels in test_dataloader:\n",
    "                inputs = inputs.to(device)\n",
    "                labels = labels.to(device)\n",
    "                outputs = model(inputs)\n",
    "                _, preds = torch.max(outputs, 1)\n",
    "                loss = criterion(outputs, labels)\n",
    "                running_loss += loss.item() * inputs.size(0)\n",
    "                running_corrects += torch.sum(preds == labels.data)\n",
    "                \n",
    "            test_epoch_loss = running_loss / len(test_dataset)\n",
    "            test_epoch_acc = running_corrects / len(test_dataset) * 100.\n",
    "            print('[Test #{}] Loss: {:.4f} Acc: {:.4f}% Time: {:.4f}s' \\\n",
    "                  .format(epoch, test_epoch_loss, test_epoch_acc, time.time() - start_time))\n",
    "            metrics = {\n",
    "                \"test/loss\": test_epoch_loss, \n",
    "                \"test/accuracy\": test_epoch_acc,\n",
    "                \"train/loss\": epoch_loss, \n",
    "                \"train/accuracy\": epoch_acc,\n",
    "            }    \n",
    "            wandb.log(metrics) \n",
    "\n",
    "        if test_epoch_acc > curr_max_acc and test_epoch_acc > 96:\n",
    "            curr_max_acc = test_epoch_acc\n",
    "            path = f\"saved_models/{name}-{SIZE[0]}-{curr_max_acc}.pth\"\n",
    "            torch.save({\n",
    "                'epoch': epoch,\n",
    "                'model_state_dict': model.state_dict(),\n",
    "                'optimizer_state_dict': optimizer.state_dict(),\n",
    "                'loss': loss,\n",
    "            }, path)\n",
    "\n",
    "wandb.finish()"
   ]
  },
  {
   "cell_type": "code",
   "execution_count": 12,
   "id": "4a214d46",
   "metadata": {},
   "outputs": [
    {
     "data": {
      "text/html": [
       "Finishing last run (ID:26k35roe) before initializing another..."
      ],
      "text/plain": [
       "<IPython.core.display.HTML object>"
      ]
     },
     "metadata": {},
     "output_type": "display_data"
    },
    {
     "data": {
      "text/html": [
       "Waiting for W&B process to finish... <strong style=\"color:green\">(success).</strong>"
      ],
      "text/plain": [
       "<IPython.core.display.HTML object>"
      ]
     },
     "metadata": {},
     "output_type": "display_data"
    },
    {
     "data": {
      "text/html": [
       "<style>\n",
       "    table.wandb td:nth-child(1) { padding: 0 10px; text-align: left ; width: auto;} td:nth-child(2) {text-align: left ; width: 100%}\n",
       "    .wandb-row { display: flex; flex-direction: row; flex-wrap: wrap; justify-content: flex-start; width: 100% }\n",
       "    .wandb-col { display: flex; flex-direction: column; flex-basis: 100%; flex: 1; padding: 10px; }\n",
       "    </style>\n",
       "<div class=\"wandb-row\"><div class=\"wandb-col\"><h3>Run history:</h3><br/><table class=\"wandb\"><tr><td>test/accuracy</td><td>▁▆█</td></tr><tr><td>test/loss</td><td>▄█▁</td></tr><tr><td>train/accuracy</td><td>▁▆█</td></tr><tr><td>train/loss</td><td>█▃▁</td></tr></table><br/></div><div class=\"wandb-col\"><h3>Run summary:</h3><br/><table class=\"wandb\"><tr><td>test/accuracy</td><td>93.0</td></tr><tr><td>test/loss</td><td>0.20107</td></tr><tr><td>train/accuracy</td><td>98.54906</td></tr><tr><td>train/loss</td><td>0.04498</td></tr></table><br/></div></div>"
      ],
      "text/plain": [
       "<IPython.core.display.HTML object>"
      ]
     },
     "metadata": {},
     "output_type": "display_data"
    },
    {
     "data": {
      "text/html": [
       "Synced <strong style=\"color:#cdcd00\">resnext50_32</strong>: <a href=\"https://wandb.ai/steeldream/gdsc/runs/26k35roe\" target=\"_blank\">https://wandb.ai/steeldream/gdsc/runs/26k35roe</a><br/>Synced 5 W&B file(s), 0 media file(s), 0 artifact file(s) and 0 other file(s)"
      ],
      "text/plain": [
       "<IPython.core.display.HTML object>"
      ]
     },
     "metadata": {},
     "output_type": "display_data"
    },
    {
     "data": {
      "text/html": [
       "Find logs at: <code>./wandb/run-20221120_140516-26k35roe/logs</code>"
      ],
      "text/plain": [
       "<IPython.core.display.HTML object>"
      ]
     },
     "metadata": {},
     "output_type": "display_data"
    },
    {
     "data": {
      "text/html": [
       "Successfully finished last run (ID:26k35roe). Initializing new run:<br/>"
      ],
      "text/plain": [
       "<IPython.core.display.HTML object>"
      ]
     },
     "metadata": {},
     "output_type": "display_data"
    },
    {
     "data": {
      "application/vnd.jupyter.widget-view+json": {
       "model_id": "b8b31bd655334dbe9087ed8e3b622d56",
       "version_major": 2,
       "version_minor": 0
      },
      "text/plain": [
       "VBox(children=(Label(value='Waiting for wandb.init()...\\r'), FloatProgress(value=0.01666840978335434, max=1.0)…"
      ]
     },
     "metadata": {},
     "output_type": "display_data"
    },
    {
     "data": {
      "text/html": [
       "Tracking run with wandb version 0.13.5"
      ],
      "text/plain": [
       "<IPython.core.display.HTML object>"
      ]
     },
     "metadata": {},
     "output_type": "display_data"
    },
    {
     "data": {
      "text/html": [
       "Run data is saved locally in <code>/workspace/New_folder/gdsc/wandb/run-20221120_140812-1ts72tuk</code>"
      ],
      "text/plain": [
       "<IPython.core.display.HTML object>"
      ]
     },
     "metadata": {},
     "output_type": "display_data"
    },
    {
     "data": {
      "text/html": [
       "Syncing run <strong><a href=\"https://wandb.ai/steeldream/gdsc/runs/1ts72tuk\" target=\"_blank\">wide_resnet101</a></strong> to <a href=\"https://wandb.ai/steeldream/gdsc\" target=\"_blank\">Weights & Biases</a> (<a href=\"https://wandb.me/run\" target=\"_blank\">docs</a>)<br/>"
      ],
      "text/plain": [
       "<IPython.core.display.HTML object>"
      ]
     },
     "metadata": {},
     "output_type": "display_data"
    },
    {
     "name": "stdout",
     "output_type": "stream",
     "text": [
      "Epoch 0 running\n",
      "[Train #0] Loss: 0.1737 Acc: 93.9672% Time: 99.4568s\n",
      "[Test #0] Loss: 0.2171 Acc: 92.2500% Time: 104.9505s\n",
      "Epoch 1 running\n",
      "[Train #1] Loss: 0.1079 Acc: 96.2581% Time: 190.7546s\n",
      "[Test #1] Loss: 0.2419 Acc: 91.2500% Time: 196.2773s\n",
      "Epoch 2 running\n",
      "[Train #2] Loss: 0.0999 Acc: 96.3345% Time: 282.0237s\n",
      "[Test #2] Loss: 0.2623 Acc: 91.5000% Time: 287.5338s\n",
      "Epoch 3 running\n",
      "[Train #3] Loss: 0.0592 Acc: 98.0527% Time: 373.6445s\n",
      "[Test #3] Loss: 0.3081 Acc: 93.0000% Time: 379.1718s\n",
      "Epoch 4 running\n",
      "[Train #4] Loss: 0.0614 Acc: 97.8618% Time: 465.2779s\n",
      "[Test #4] Loss: 0.1723 Acc: 95.5000% Time: 470.8017s\n",
      "Epoch 5 running\n",
      "[Train #5] Loss: 0.0505 Acc: 98.2818% Time: 556.9745s\n",
      "[Test #5] Loss: 0.2416 Acc: 93.2500% Time: 562.4675s\n",
      "Epoch 6 running\n",
      "[Train #6] Loss: 0.0614 Acc: 98.2436% Time: 648.2235s\n",
      "[Test #6] Loss: 0.3172 Acc: 93.2500% Time: 653.6723s\n",
      "Epoch 7 running\n",
      "[Train #7] Loss: 0.0426 Acc: 98.5872% Time: 739.5216s\n",
      "[Test #7] Loss: 0.4389 Acc: 91.5000% Time: 744.9908s\n"
     ]
    }
   ],
   "source": [
    "resnets = {\n",
    "#     \"resnext50_32\": models.resnext50_32x4d(pretrained=True),\n",
    "#     \"resnext101_32\": models.resnext101_32x8d(pretrained=True),\n",
    "#     \"wide_resnet50\": models.wide_resnet50_2(pretrained=True),\n",
    "    \"wide_resnet101\": models.wide_resnet101_2(pretrained=True),\n",
    "#     \"resnet50\":  models.resnet50(pretrained=True),\n",
    "#     \"resnet101\": models.resnet101(pretrained=True),\n",
    "#     \"resnet152\": models.resnet152(pretrained=True),\n",
    "}\n",
    "\n",
    "for name, model in resnets.items():\n",
    "    train_model(name, model)"
   ]
  }
 ],
 "metadata": {
  "kernelspec": {
   "display_name": "Python 3",
   "language": "python",
   "name": "python3"
  },
  "language_info": {
   "codemirror_mode": {
    "name": "ipython",
    "version": 3
   },
   "file_extension": ".py",
   "mimetype": "text/x-python",
   "name": "python",
   "nbconvert_exporter": "python",
   "pygments_lexer": "ipython3",
   "version": "3.8.8"
  }
 },
 "nbformat": 4,
 "nbformat_minor": 5
}
